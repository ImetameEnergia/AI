{
 "cells": [
  {
   "cell_type": "markdown",
   "id": "d2e7d38a",
   "metadata": {},
   "source": [
    "<a class=\"anchor\" id=\"up-bullet\"></a>"
   ]
  },
  {
   "cell_type": "markdown",
   "id": "cabaddad",
   "metadata": {},
   "source": [
    "# Generation of Synthetic Sonic Log Data Using Random Forest Algorithm at the Lagoa Parda Field in Espirito Santo, Brasil\n",
    "\n",
    "* __Author__: Gabriel Senra\n",
    "* __Date__: 10/02/2022\n",
    "\n",
    "\n",
    "- [2. Imports](#second-bullet)\n",
    "\n",
    "\n",
    "- [3. Methods](#thrid-bullet)\n",
    "\n",
    "\n",
    "- [4. Split DataSets](#fourth-bullet)\n",
    "\n",
    "\n",
    "- [5. Data Cleaning](#fifth-bullet)\n",
    "\n",
    "\n",
    "- [6. Build Machine Learning Models](#sixth-bullet)\n",
    "\n",
    "\n",
    "- [7. References](#seventh-bullet)    "
   ]
  },
  {
   "cell_type": "markdown",
   "id": "a6d6636b",
   "metadata": {},
   "source": [
    "<a class=\"anchor\" id=\"first1-bullet\"></a>"
   ]
  },
  {
   "cell_type": "markdown",
   "id": "68ff4b22",
   "metadata": {},
   "source": [
    "## 1.3. Data Decription "
   ]
  },
  {
   "cell_type": "markdown",
   "id": "f816c335",
   "metadata": {},
   "source": [
    "- Curve: DEPT, Units: M, Description: Measured Depth\n",
    "- Curve: CALI, Units: in, Description: CALIPER\n",
    "- Curve: DT, Units: us/ft, Description: DELTA-T (ALSO CALLED SLOWNESS OR INTERVAL TRANSIT TIME)\n",
    "- Curve: GR, Units: gAPI, Description: GAMMA RAY\n",
    "- Curve: RHOB, Units: g/cm3, Description: BULK DENSITY\n",
    "- Curve: NPHI, Units: %, Description: THERMAL NEUTRON POROSITY (ORIGINAL RATIO METHOD) IN SELECTED LITHOLOGY\n",
    "- Curve: ILD, Units: ohm.m, Description: INDUCTION DEEP RESISTIVITY"
   ]
  },
  {
   "cell_type": "markdown",
   "id": "0e8a9b43",
   "metadata": {},
   "source": [
    "<a class=\"anchor\" id=\"first4-bullet\"></a>"
   ]
  },
  {
   "cell_type": "markdown",
   "id": "e853eedd",
   "metadata": {},
   "source": [
    "## 1.4. Evaluation Metric"
   ]
  },
  {
   "cell_type": "markdown",
   "id": "ace0b88f",
   "metadata": {},
   "source": [
    "We will be evaluated by the metirc Root Mean Squared Error and r².\n",
    "\n",
    "### The RMSE is calculated as:"
   ]
  },
  {
   "cell_type": "markdown",
   "id": "3fef251b",
   "metadata": {},
   "source": [
    "### RMSE = $\\sqrt{\\frac{1}{n}\\Sigma_{i=1}^{n}{\\Big(\\frac{d_i -f_i}{\\sigma_i}\\Big)^2}}$"
   ]
  },
  {
   "cell_type": "markdown",
   "id": "6375e11d",
   "metadata": {},
   "source": [
    "Where:\n",
    "\n",
    "- \"di\" is the predicted curve for DT\n",
    "- \"fi\" is the true value for evaluation."
   ]
  },
  {
   "cell_type": "markdown",
   "id": "3711c223",
   "metadata": {},
   "source": [
    "### R² (Variance Explained) is calculated as:"
   ]
  },
  {
   "cell_type": "markdown",
   "id": "30832042",
   "metadata": {},
   "source": [
    "## $R^2 = \\frac {{SS}_{regression}}{{SS}_{total}} = 1 - \\frac{\\sum_{i}({y}_{i} - \\hat{y}_{i})^2}{\\sum_{i}({y}_{i} - \\bar{y}_{i})^2}$"
   ]
  },
  {
   "cell_type": "markdown",
   "id": "7048be01",
   "metadata": {},
   "source": [
    "# 2. Imports"
   ]
  },
  {
   "cell_type": "code",
   "execution_count": 1,
   "id": "8f060166",
   "metadata": {
    "tags": [
     "hide-cell"
    ]
   },
   "outputs": [],
   "source": [
    "# import libraries\n",
    "import pandas as pd\n",
    "import numpy as np\n",
    "import seaborn as sb\n",
    "import plotly.express as px\n",
    "import missingno as msno\n",
    "import matplotlib.pyplot as plt\n",
    "import lasio\n",
    "import os"
   ]
  },
  {
   "cell_type": "markdown",
   "id": "f0696460",
   "metadata": {},
   "source": [
    "<a class=\"anchor\" id=\"thrid-bullet\"></a>"
   ]
  },
  {
   "cell_type": "markdown",
   "id": "7218d830",
   "metadata": {},
   "source": [
    "[Up](#up-bullet)"
   ]
  },
  {
   "cell_type": "markdown",
   "id": "7e1029d4",
   "metadata": {},
   "source": [
    "# 3. Methods"
   ]
  },
  {
   "cell_type": "code",
   "execution_count": 2,
   "id": "da8f4290",
   "metadata": {},
   "outputs": [],
   "source": [
    "#Seleciona os poços que contem a lista de minemonicos de interesse\n",
    "def selectMinemonico(listaDB, minemonicos, selectedTrainingList):\n",
    "    for i in range (len(listaDB)):\n",
    "        count = 0\n",
    "        for j in range(len(minemonicos)):\n",
    "            if (minemonicos[j] in listaDB[i].columns):\n",
    "                count = count+1\n",
    "        if count == len(minemonicos):\n",
    "            selectedTrainingList.append(listaDB[i])"
   ]
  },
  {
   "cell_type": "code",
   "execution_count": 3,
   "id": "96ed65df",
   "metadata": {},
   "outputs": [],
   "source": [
    "#Função padroniza o nome das colunas, recebe duas lista (Atual e Ideal).\n",
    "def standartazeColumns(atual, ideal):\n",
    "    global well\n",
    "    for j in range (len(well.columns)):\n",
    "        for s in range(len(atual)):\n",
    "            if well.columns[j] == atual[s]:\n",
    "                well = well.rename(columns={atual[s]: ideal[s]})"
   ]
  },
  {
   "cell_type": "code",
   "execution_count": 4,
   "id": "2b76d4c3",
   "metadata": {},
   "outputs": [],
   "source": [
    "#Aplica o modelo preditivo\n",
    "def grid_search(clf, param_grid, X_train, y_train):\n",
    "\n",
    "    grid = GridSearchCV(estimator=clf,\n",
    "                        param_grid=param_grid, \n",
    "                        scoring='r2', \n",
    "                        cv=5)\n",
    "    grid.fit(X_train, y_train.ravel())\n",
    "    print(\"R²:\")\n",
    "    print(grid.best_score_) #ROC AUC\n",
    "    \n",
    "    return grid.best_estimator_"
   ]
  },
  {
   "cell_type": "code",
   "execution_count": 5,
   "id": "2a0d35a9",
   "metadata": {},
   "outputs": [],
   "source": [
    "#Visualização de dados\n",
    "\n",
    "def result_plot(y_predict, y_real):\n",
    "    # check the accuracy of predicted data and plot the result\n",
    "    print('Root Mean Square Error is:', '{:.5f}'.format(np.sqrt(mean_squared_error(y_real, y_predict))))\n",
    "    plt.subplots(figsize=(42,12))\n",
    "    plt.subplot(2, 2, 1)\n",
    "    plt.plot(y_real[:])\n",
    "    plt.plot(y_predict[:])\n",
    "    plt.legend(['True', 'Predicted'])\n",
    "    plt.xlabel('Sample')\n",
    "    plt.ylabel('DT')\n",
    "    plt.title('DT Prediction Comparison')\n",
    "    \n",
    "    plt.subplot(2, 2, 3)\n",
    "    plt.scatter(y_real[:], y_predict[:])\n",
    "    plt.xlabel('Real Value')\n",
    "    plt.ylabel('Predicted Value')\n",
    "    plt.title('DT Prediction Comparison')\n",
    "    \n",
    "    plt.show()\n",
    "\n",
    "def wellLogPlot(df):\n",
    "    fig, ax = plt.subplots(figsize=(24,42))\n",
    "\n",
    "    #Set up the plot axes\n",
    "    ax1 = plt.subplot2grid((1,4), (0,0), rowspan=1, colspan = 1)\n",
    "    ax2 = plt.subplot2grid((1,4), (0,1), rowspan=1, colspan = 1)\n",
    "    ax3 = plt.subplot2grid((1,4), (0,2), rowspan=1, colspan = 1)\n",
    "    ax4 = plt.subplot2grid((1,4), (0,3), rowspan=1, colspan = 1)\n",
    "    \n",
    "    # As our curve scales will be detached from the top of the track,\n",
    "    # this code adds the top border back in without dealing with splines\n",
    "    ax8 = ax1.twiny()\n",
    "    ax8.xaxis.set_visible(False)\n",
    "    ax9 = ax2.twiny()\n",
    "    ax9.xaxis.set_visible(False)\n",
    "    ax10 = ax3.twiny()\n",
    "    ax10.xaxis.set_visible(False)\n",
    "    ax11 = ax4.twiny()\n",
    "    ax11.xaxis.set_visible(False)\n",
    "\n",
    "    # Gamma Ray track\n",
    "    ax1.plot(\"GR\", \"DEPT\", data = df, color = \"green\",linewidth=3)\n",
    "    ax1.set_xlabel(\"Gamma\",size = 24)\n",
    "    ax1.xaxis.label.set_color(\"green\")\n",
    "    ax1.set_ylabel(\"Depth (m)\",size = 24)\n",
    "    ax1.tick_params(axis='x', colors=\"green\",size = 24)\n",
    "    ax1.spines[\"top\"].set_edgecolor(\"green\")\n",
    "    ax1.title.set_color('green')\n",
    "    ax1.set_xticks([0, 50, 100, 150, 200])\n",
    "\n",
    "    # Density track\n",
    "    ax4.plot(\"ILD\", \"DEPT\", data = df, color = \"red\",linewidth=3)\n",
    "    ax4.set_xlabel(\"ILD\",size = 24)\n",
    "    ax4.xaxis.label.set_color(\"red\")\n",
    "    ax4.tick_params(axis='x', colors=\"red\",size = 24)\n",
    "    ax4.spines[\"top\"].set_edgecolor(\"red\")\n",
    "\n",
    "    # Sonic track\n",
    "    ax3.plot(\"DT\", \"DEPT\", data = df, color = \"purple\",linewidth=3)\n",
    "    ax3.set_xlabel(\"Sonic\",size = 24)\n",
    "    ax3.xaxis.label.set_color(\"purple\")\n",
    "    ax3.tick_params(axis='x', colors=\"purple\",size = 24)\n",
    "    ax3.spines[\"top\"].set_edgecolor(\"purple\")\n",
    "\n",
    "    # Sonic track\n",
    "    ax2.plot(\"CALI\", \"DEPT\", data = df, color = \"darkgray\",linewidth=3)\n",
    "    ax2.set_xlabel(\"Caliper\",size = 24)\n",
    "    ax2.xaxis.label.set_color(\"darkgray\")\n",
    "    ax2.tick_params(axis='x', colors=\"darkgray\",size = 24)\n",
    "    ax2.spines[\"top\"].set_edgecolor(\"darkgray\")\n",
    "\n",
    "    # Common functions for setting up the plot can be extracted into\n",
    "    # a for loop. This saves repeating code.\n",
    "    for ax in [ax1, ax2, ax3, ax4]:\n",
    "        ax.grid(which='major', color='lightgrey')\n",
    "        ax.xaxis.set_ticks_position(\"top\")\n",
    "        ax.xaxis.set_label_position(\"top\")\n",
    "        ax.spines[\"top\"].set_position((\"axes\", 1.02))\n",
    "\n",
    "\n",
    "    plt.tight_layout()\n",
    "    plt.show()"
   ]
  },
  {
   "cell_type": "markdown",
   "id": "af66164a",
   "metadata": {},
   "source": [
    "<a class=\"anchor\" id=\"fourth-bullet\"></a>"
   ]
  },
  {
   "cell_type": "markdown",
   "id": "5b2f2ba2",
   "metadata": {},
   "source": [
    "# 4. Split Datasets"
   ]
  },
  {
   "cell_type": "markdown",
   "id": "9b1aafbd",
   "metadata": {},
   "source": [
    "In order to syntesise the Sonic Curve we need to split our dataset betwin train and test. We want to do this before any substantial visualizations that way we can avoid biases inherent to the visualization process\n",
    "\n",
    "- In the code below, I identify which wells have DT and which need to be predicted"
   ]
  },
  {
   "cell_type": "code",
   "execution_count": 6,
   "id": "e7221303",
   "metadata": {},
   "outputs": [
    {
     "name": "stdout",
     "output_type": "stream",
     "text": [
      "C:\\Users\\James Bond\\Desktop\\AI\\LP Updated\n",
      "There are 88 well logs in Lagoa Parda, of which 29 have registered DT, other 59 wells do not have DT.\n"
     ]
    }
   ],
   "source": [
    "%cd \"C:\\Users\\James Bond\\Desktop\\AI\\LP Updated\"\n",
    "\n",
    "#Todos os bancos de dados disponíveis\n",
    "lasList = pd.DataFrame(os.listdir())[0].tolist()\n",
    "lasListWell = []\n",
    "\n",
    "#Poços a serem utilizados como treino (Com DT)\n",
    "training_list = []\n",
    "\n",
    "#Defino os possiveis nomes a serem padronizados e o nome padronizado\n",
    "atual = [\"MSFL\",\"RXOZ\",\"MDT\",\"RHOZ\",\"CAL\",\"HCAL\",\"DEPTH\"]\n",
    "ideal = [\"RXO\",\"RXO\",\"DT\",\"RHOB\",\"CALI\",\"CALI\",\"DEPT\"]\n",
    "\n",
    "#Seperar os dados a serem pré-processados\n",
    "for i in range (len(lasList)):\n",
    "\n",
    "    #Ler arquivo las e de seus minemônicos\n",
    "    las = lasio.read(lasList[i])\n",
    "    well = (las.df()).reset_index()\n",
    "    well['wellName'] = las.well.WELL.value\n",
    "    \n",
    "    #Padronizar\n",
    "    standartazeColumns(atual, ideal)\n",
    "\n",
    "    lasListWell.append(well)\n",
    "\n",
    "    #Separar os poços com e sem DT\n",
    "    for j in range(len(well.columns)):\n",
    "        if well.columns[j] == \"DT\":\n",
    "            training_list.append(lasListWell[i])\n",
    "\n",
    "print(\"There are\", len(lasList), \"well logs in Lagoa Parda, of which\", len(training_list),\"have registered DT, other\", len(lasList)-len(training_list),\"wells do not have DT.\")"
   ]
  },
  {
   "cell_type": "markdown",
   "id": "422365a0",
   "metadata": {},
   "source": [
    "<a class=\"anchor\" id=\"fifth-bullet\"></a>"
   ]
  },
  {
   "cell_type": "markdown",
   "id": "524f3ae5",
   "metadata": {},
   "source": [
    "[Up](#up-bullet)"
   ]
  },
  {
   "cell_type": "markdown",
   "id": "b4eeb196",
   "metadata": {},
   "source": [
    "# 5. Data Cleaning"
   ]
  },
  {
   "cell_type": "markdown",
   "id": "cbde48e7",
   "metadata": {},
   "source": [
    "- Select minemonics of interest, handle null and inconsistent values"
   ]
  },
  {
   "cell_type": "code",
   "execution_count": 11,
   "id": "7039996c",
   "metadata": {},
   "outputs": [
    {
     "ename": "AttributeError",
     "evalue": "'list' object has no attribute 'concat'",
     "output_type": "error",
     "traceback": [
      "\u001b[1;31m---------------------------------------------------------------------------\u001b[0m",
      "\u001b[1;31mAttributeError\u001b[0m                            Traceback (most recent call last)",
      "\u001b[1;32m<ipython-input-11-1c150939bcfa>\u001b[0m in \u001b[0;36m<module>\u001b[1;34m\u001b[0m\n\u001b[0;32m     14\u001b[0m         \u001b[0mdf\u001b[0m\u001b[1;33m.\u001b[0m\u001b[0mappend\u001b[0m\u001b[1;33m(\u001b[0m\u001b[0mselectedTrainingListWell\u001b[0m\u001b[1;33m[\u001b[0m\u001b[0mi\u001b[0m\u001b[1;33m]\u001b[0m\u001b[1;33m)\u001b[0m\u001b[1;33m\u001b[0m\u001b[1;33m\u001b[0m\u001b[0m\n\u001b[0;32m     15\u001b[0m \u001b[1;33m\u001b[0m\u001b[0m\n\u001b[1;32m---> 16\u001b[1;33m \u001b[0mdf\u001b[0m \u001b[1;33m=\u001b[0m \u001b[0mdf\u001b[0m\u001b[1;33m.\u001b[0m\u001b[0mconcat\u001b[0m\u001b[1;33m(\u001b[0m\u001b[1;33m)\u001b[0m\u001b[1;33m\u001b[0m\u001b[1;33m\u001b[0m\u001b[0m\n\u001b[0m",
      "\u001b[1;31mAttributeError\u001b[0m: 'list' object has no attribute 'concat'"
     ]
    }
   ],
   "source": [
    "#Seleciona os poços que contem o minemonicos de interesse\n",
    "minemonicos = ['NPHI', 'GR', 'CALI', 'DT', 'DEPT', 'RHOB', 'ILD', 'wellName']\n",
    "selectedTrainingListWell = []\n",
    "\n",
    "selectMinemonico(training_list, minemonicos, selectedTrainingListWell)\n",
    "\n",
    "#Tratamento dos valores faltantes, inconsistentes e seleciono apenas os minemônicos de interesse\n",
    "df = []\n",
    "for i in range(len(selectedTrainingListWell)):\n",
    "    #selectedTrainingListWell[i] = (selectedTrainingListWell[i].dropna())\n",
    "    #selectedTrainingListWell[i] = selectedTrainingListWell[i][minemonicos]\n",
    "    selectedTrainingListWell[i] = selectedTrainingListWell[i][(selectedTrainingListWell[i]['DT'] < 170)].reset_index(drop = True)\n",
    "    if len(selectedTrainingListWell[i]) != 0:\n",
    "        df.append(selectedTrainingListWell[i])\n",
    "        \n",
    "df = df.concat()"
   ]
  },
  {
   "cell_type": "markdown",
   "id": "817d445a",
   "metadata": {},
   "source": [
    "<a class=\"anchor\" id=\"sixth-bullet\"></a>"
   ]
  },
  {
   "cell_type": "markdown",
   "id": "d11f2d9c",
   "metadata": {},
   "source": [
    "[Up](#up-bullet)"
   ]
  },
  {
   "cell_type": "code",
   "execution_count": null,
   "id": "c23d2748",
   "metadata": {},
   "outputs": [],
   "source": [
    "msno.bar(df[1])"
   ]
  },
  {
   "cell_type": "code",
   "execution_count": null,
   "id": "1b80d3ba",
   "metadata": {},
   "outputs": [],
   "source": [
    "msno.matrix(df[1])"
   ]
  },
  {
   "cell_type": "code",
   "execution_count": null,
   "id": "a5967c14",
   "metadata": {},
   "outputs": [],
   "source": [
    "msno.heatmap(df[1])"
   ]
  },
  {
   "cell_type": "code",
   "execution_count": null,
   "id": "0b6a3a8d",
   "metadata": {},
   "outputs": [],
   "source": [
    "df[1].info()"
   ]
  },
  {
   "cell_type": "code",
   "execution_count": null,
   "id": "d483f41c",
   "metadata": {},
   "outputs": [],
   "source": [
    "df[1].describe()"
   ]
  },
  {
   "cell_type": "code",
   "execution_count": null,
   "id": "73636b30",
   "metadata": {},
   "outputs": [],
   "source": [
    "#Scatterplot matrix\n",
    "fig = px.scatter_matrix(df[1], dimensions=['NPHI', 'GR', 'CALI','DT', 'RHOB','ILD'],\n",
    "labels={col:col.replace('_', ' ') for col in df[1].columns},           height=900, color=\"DEPT\", color_continuous_scale=px.colors.diverging.Tealrose)\n",
    "fig.show()"
   ]
  },
  {
   "cell_type": "code",
   "execution_count": null,
   "id": "9654e3d2",
   "metadata": {},
   "outputs": [],
   "source": [
    "df[1][['ILD','GR','RHOB','DT','CALI','NPHI']].hist(bins=40, figsize=(20, 15))"
   ]
  },
  {
   "cell_type": "code",
   "execution_count": null,
   "id": "e4bbecb9",
   "metadata": {},
   "outputs": [],
   "source": [
    "fig = px.box(df[1], x=\"DT\",\n",
    "color_discrete_sequence=px.colors.qualitative.Dark24,\n",
    "labels={col:col.replace('_', ' ') for col in df[1].columns},\n",
    "category_orders={})\n",
    "fig.update_layout(legend=dict(orientation=\"h\", yanchor=\"bottom\",\n",
    "y=1.02, xanchor=\"right\", x=1))\n",
    "fig.show()"
   ]
  },
  {
   "cell_type": "code",
   "execution_count": null,
   "id": "c5154edc",
   "metadata": {},
   "outputs": [],
   "source": [
    "df[1].corr()"
   ]
  },
  {
   "cell_type": "code",
   "execution_count": null,
   "id": "164e7d3d",
   "metadata": {},
   "outputs": [],
   "source": [
    "import seaborn as sns\n",
    "\n",
    "corr = df[1][['NPHI', 'GR', 'CALI','DT', 'RHOB', 'ILD']].corr()\n",
    "\n",
    "mask = np.triu(np.ones_like(corr, dtype=bool))\n",
    "\n",
    "f, ax = plt.subplots(figsize=(11, 9))\n",
    "cmap = sns.diverging_palette(230, 20, as_cmap=True)\n",
    "sns.heatmap(corr, mask=mask, cmap=cmap, vmax=.3, center=0,\n",
    "            square=True, linewidths=.5, cbar_kws={\"shrink\": .5})"
   ]
  },
  {
   "cell_type": "code",
   "execution_count": null,
   "id": "3bc47184",
   "metadata": {
    "scrolled": false
   },
   "outputs": [],
   "source": [
    "for s in range(len(df)):\n",
    "    \n",
    "    poco = df[s]['wellName'][0]\n",
    "    print('Poço:',poco)\n",
    "    \n",
    "    wellLogPlot(df[s])\n",
    "    \n",
    "    ### Standardizing data for next iteration ###\n",
    "    df[s]['wellName'] = poco"
   ]
  },
  {
   "cell_type": "markdown",
   "id": "ce516d88",
   "metadata": {},
   "source": [
    "<a class=\"anchor\" id=\"seventh-bullet\"></a>"
   ]
  },
  {
   "cell_type": "markdown",
   "id": "a62363f1",
   "metadata": {},
   "source": [
    "[Up](#up-bullet)"
   ]
  },
  {
   "cell_type": "markdown",
   "id": "0e083a50",
   "metadata": {},
   "source": [
    "## 7. References:"
   ]
  },
  {
   "cell_type": "markdown",
   "id": "ca3f1188",
   "metadata": {},
   "source": [
    "https://github.com/pddasig/Machine-Learning-Competition-2020/blob/master/Synthetic%20Sonic%20Log%20Generation%20Starter_Yu%202_27_2020.ipynb\n",
    "    \n",
    "https://github.com/andymcdgeo/Petrophysics-Python-Series/blob/master/14%20-%20Displaying%20Lithology%20Data.ipynb\n",
    "    \n",
    "https://github.com/andymcdgeo/Petrophysics-Python-Series/blob/master/05%20-%20Petrophysical%20Calculations.ipynb\n",
    "    \n",
    "https://scikit-learn.org/stable/auto_examples/linear_model/plot_ols.html\n",
    "    \n",
    "https://scikit-learn.org/stable/modules/generated/sklearn.linear_model.Ridge.html"
   ]
  }
 ],
 "metadata": {
  "kernelspec": {
   "display_name": "Python 3",
   "language": "python",
   "name": "python3"
  },
  "language_info": {
   "codemirror_mode": {
    "name": "ipython",
    "version": 3
   },
   "file_extension": ".py",
   "mimetype": "text/x-python",
   "name": "python",
   "nbconvert_exporter": "python",
   "pygments_lexer": "ipython3",
   "version": "3.8.8"
  }
 },
 "nbformat": 4,
 "nbformat_minor": 5
}
